{
 "cells": [
  {
   "cell_type": "markdown",
   "id": "cb3dabf6",
   "metadata": {},
   "source": [
    "# jsjd"
   ]
  },
  {
   "cell_type": "code",
   "execution_count": 1,
   "id": "d0ce4a98",
   "metadata": {},
   "outputs": [],
   "source": [
    "import selenium\n",
    "from selenium import webdriver\n",
    "\n",
    "from bs4 import BeautifulSoup # HTML Parser\n",
    "from selenium.webdriver.common.by import By\n",
    "from selenium.webdriver.chrome.service import Service"
   ]
  },
  {
   "cell_type": "code",
   "execution_count": 2,
   "id": "2efe1a7b",
   "metadata": {},
   "outputs": [],
   "source": [
    "from selenium.webdriver.chrome.options import Options\n",
    "from selenium.common.exceptions import TimeoutException\n",
    "from selenium.webdriver.support.ui import WebDriverWait\n",
    "import time"
   ]
  },
  {
   "cell_type": "code",
   "execution_count": 3,
   "id": "19cfe508",
   "metadata": {},
   "outputs": [],
   "source": [
    "from fake_useragent import UserAgent"
   ]
  },
  {
   "cell_type": "code",
   "execution_count": 4,
   "id": "705cf219",
   "metadata": {},
   "outputs": [],
   "source": [
    "from selenium_stealth import stealth"
   ]
  },
  {
   "cell_type": "markdown",
   "id": "2f16e3c8",
   "metadata": {},
   "source": [
    "____"
   ]
  },
  {
   "cell_type": "code",
   "execution_count": 5,
   "id": "d3e6a441",
   "metadata": {},
   "outputs": [],
   "source": [
    "#DRIVER_PATH = '/Users/duduba2010/Python/projects/rpa/chromedriver'\n",
    "DRIVER_PATH = '/Users/duduba2010/Python/projects/rpa/chromedriver_copy'"
   ]
  },
  {
   "cell_type": "markdown",
   "id": "3f6337a1",
   "metadata": {},
   "source": [
    "## BOT TEST"
   ]
  },
  {
   "cell_type": "code",
   "execution_count": 6,
   "id": "32b89999",
   "metadata": {},
   "outputs": [],
   "source": [
    "#URL = 'https://bot.sannysoft.com/'\n",
    "URL = 'https://cav.receita.fazenda.gov.br/autenticacao/login'"
   ]
  },
  {
   "cell_type": "code",
   "execution_count": 8,
   "id": "b8303ba5",
   "metadata": {},
   "outputs": [],
   "source": [
    "s = Service(DRIVER_PATH)\n",
    "options = Options()\n",
    "ua = UserAgent()\n",
    "userAgent = ua.random\n",
    "\n",
    "\n",
    "options.add_argument(\"--start-maximized\")\n",
    "\n",
    "driver = webdriver.Chrome(options=options,\n",
    "                          service=s)\n",
    "\n",
    "\n",
    "\n",
    "stealth(driver,\n",
    "        languages=[\"en\"],\n",
    "        vendor=\"Google Inc.\",\n",
    "        platform=\"Win32\",\n",
    "        webgl_vendor=\"Intel Inc.\",\n",
    "        renderer=\"Intel Iris OpenGL Engine\",\n",
    "        fix_hairline=True,\n",
    "        )\n",
    "\n",
    "driver.set_page_load_timeout(5)\n",
    "\n",
    "try:\n",
    "    driver.get(URL)\n",
    "except TimeoutException:\n",
    "    driver.execute_script(\"window.stop();\")\n",
    "\n",
    "\n",
    "button = driver.find_element(By.XPATH,\"//div[@id='login-dados-certificado']/p[2]/input\")\n",
    "\n",
    "time.sleep(0.25)\n",
    "button.click()"
   ]
  },
  {
   "cell_type": "markdown",
   "id": "e682f274",
   "metadata": {},
   "source": [
    "____"
   ]
  },
  {
   "cell_type": "raw",
   "id": "23c2eff6",
   "metadata": {},
   "source": [
    "\n",
    "URL = 'https://cav.receita.fazenda.gov.br/autenticacao/login'\n",
    "\n",
    "\n",
    "s = Service(DRIVER_PATH)\n",
    "options = Options()\n",
    "ua = UserAgent()\n",
    "userAgent = ua.random\n",
    "\n",
    "#options.headless = True\n",
    "options.add_argument(\"--window-size=1000,800\")\n",
    "#PROXY = \"11.456.448.110:8080\"\n",
    "#options.add_argument('--proxy-server=%s' % PROXY)\n",
    "#options.add_argument(f'user-agent={userAgent}')\n",
    "#options.add_argument('user-data-dir=/Users/duduba2010/Library/Application Support/Google/Chrome/')\n",
    "\n",
    "#driver = webdriver.Chrome(executable_path=DRIVER_PATH)\n",
    "driver = webdriver.Chrome(options=options,\n",
    "                          service=s)\n",
    "\n",
    "# stealth(driver,\n",
    "#         languages=[\"en\"],\n",
    "#         vendor=\"Google Inc.\",\n",
    "#         platform=\"Win32\",\n",
    "#         webgl_vendor=\"Intel Inc.\",\n",
    "#         renderer=\"Intel Iris OpenGL Engine\",\n",
    "#         fix_hairline=True,\n",
    "#         )\n",
    "\n",
    "driver.set_page_load_timeout(5)\n",
    "\n",
    "try:\n",
    "    driver.get(URL)\n",
    "except TimeoutException:\n",
    "    driver.execute_script(\"window.stop();\")\n",
    "\n",
    "time.sleep(0.25)\n",
    "button = driver.find_element(By.XPATH,\"//div[@id='login-dados-certificado']/p[2]/input\")\n",
    "time.sleep(0.25)\n",
    "button.click()\n",
    "time.sleep(0.25)\n",
    "time.sleep(4)\n",
    "\n",
    "#driver.quit()"
   ]
  },
  {
   "cell_type": "code",
   "execution_count": null,
   "id": "974b0b34",
   "metadata": {},
   "outputs": [],
   "source": []
  },
  {
   "cell_type": "code",
   "execution_count": null,
   "id": "f1757730",
   "metadata": {},
   "outputs": [],
   "source": []
  }
 ],
 "metadata": {
  "kernelspec": {
   "display_name": "Python 3 (ipykernel)",
   "language": "python",
   "name": "python3"
  },
  "language_info": {
   "codemirror_mode": {
    "name": "ipython",
    "version": 3
   },
   "file_extension": ".py",
   "mimetype": "text/x-python",
   "name": "python",
   "nbconvert_exporter": "python",
   "pygments_lexer": "ipython3",
   "version": "3.9.6"
  }
 },
 "nbformat": 4,
 "nbformat_minor": 5
}
